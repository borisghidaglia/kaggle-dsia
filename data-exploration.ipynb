{
 "cells": [
  {
   "cell_type": "code",
   "execution_count": 104,
   "metadata": {},
   "outputs": [],
   "source": [
    "import numpy as np\n",
    "import pandas as pd\n",
    "\n",
    "from collections import defaultdict\n",
    "from sklearn.preprocessing import LabelEncoder"
   ]
  },
  {
   "cell_type": "code",
   "execution_count": 3,
   "metadata": {},
   "outputs": [],
   "source": [
    "# Importing data\n",
    "test = pd.read_csv('data/test.csv', index_col='id', na_values=['\\\\N', 'Non Renseigne'])\n",
    "train = pd.read_csv('data/train.csv', index_col='id', na_values=['\\\\N', 'Non Renseigne'])"
   ]
  },
  {
   "cell_type": "code",
   "execution_count": 28,
   "metadata": {},
   "outputs": [
    {
     "data": {
      "text/plain": [
       "STRUCTURE PRESCRIPTRICE     object\n",
       "PLATEFORME                  object\n",
       "year                         int64\n",
       "month                        int64\n",
       "region                      object\n",
       "ORIENTATION                 object\n",
       "NATURE_DIFF                 object\n",
       "age                        float64\n",
       "tranche_age                 object\n",
       "situation                   object\n",
       "adulte_foyer               float64\n",
       "pers_a_charge                int64\n",
       "PROF                        object\n",
       "LOGEMENT                    object\n",
       "REVENUS                      int64\n",
       "cat_rev                     object\n",
       "CHARGES                      int64\n",
       "cat_charges                 object\n",
       "CREDITS                      int64\n",
       "cat_credit                  object\n",
       "IMPAYES_DEBUT              float64\n",
       "cat_impayes                 object\n",
       "RAV_ouverture                int64\n",
       "cat_RAV_ouverture           object\n",
       "RAV_UC                      object\n",
       "cat_RAV_UC                  object\n",
       "nb_credits                   int64\n",
       "CRD                         object\n",
       "gain_mediation             float64\n",
       "nb_amort                     int64\n",
       "crd_amort                  float64\n",
       "nb_renouv                    int64\n",
       "crd_renouv                 float64\n",
       "nb_immo                      int64\n",
       "crd_immo                   float64\n",
       "nb_rac                       int64\n",
       "crd_rac                    float64\n",
       "nb_autres                    int64\n",
       "crd_autres                 float64\n",
       "nb_decouvert                 int64\n",
       "crd_decouvert              float64\n",
       "moy_eco_jour                object\n",
       "cat_moy_eco_jour            object\n",
       "dtype: object"
      ]
     },
     "execution_count": 28,
     "metadata": {},
     "output_type": "execute_result"
    }
   ],
   "source": [
    "train.dtypes"
   ]
  },
  {
   "cell_type": "code",
   "execution_count": 188,
   "metadata": {},
   "outputs": [
    {
     "data": {
      "text/plain": [
       "98"
      ]
     },
     "execution_count": 188,
     "metadata": {},
     "output_type": "execute_result"
    }
   ],
   "source": [
    "train.situation.isna().sum()"
   ]
  },
  {
   "cell_type": "code",
   "execution_count": 200,
   "metadata": {},
   "outputs": [
    {
     "data": {
      "text/plain": [
       "4299"
      ]
     },
     "execution_count": 200,
     "metadata": {},
     "output_type": "execute_result"
    }
   ],
   "source": [
    "len(train)"
   ]
  },
  {
   "cell_type": "code",
   "execution_count": 205,
   "metadata": {},
   "outputs": [
    {
     "data": {
      "text/plain": [
       "0.40497790183763666"
      ]
     },
     "execution_count": 205,
     "metadata": {},
     "output_type": "execute_result"
    }
   ],
   "source": [
    "train.age.isna().sum()/len(train)"
   ]
  },
  {
   "cell_type": "code",
   "execution_count": 209,
   "metadata": {},
   "outputs": [
    {
     "data": {
      "text/plain": [
       "crd_immo          100000.0\n",
       "crd_rac            25529.5\n",
       "crd_amort          15209.0\n",
       "crd_renouv          6929.5\n",
       "crd_autres          4106.0\n",
       "year                2017.0\n",
       "REVENUS             2000.0\n",
       "IMPAYES_DEBUT       1095.0\n",
       "CHARGES              978.5\n",
       "crd_decouvert        900.0\n",
       "CREDITS              741.0\n",
       "gain_mediation       542.0\n",
       "RAV_ouverture        216.0\n",
       "age                   52.0\n",
       "month                  7.0\n",
       "nb_credits             4.0\n",
       "nb_renouv              2.0\n",
       "adulte_foyer           2.0\n",
       "nb_amort               1.0\n",
       "nb_decouvert           0.0\n",
       "nb_immo                0.0\n",
       "nb_rac                 0.0\n",
       "nb_autres              0.0\n",
       "pers_a_charge          0.0\n",
       "dtype: float64"
      ]
     },
     "execution_count": 209,
     "metadata": {},
     "output_type": "execute_result"
    }
   ],
   "source": [
    "df_general.median().sort_values(ascending=False)"
   ]
  },
  {
   "cell_type": "code",
   "execution_count": 189,
   "metadata": {},
   "outputs": [
    {
     "data": {
      "text/plain": [
       "gain_mediation             7703\n",
       "crd_decouvert              7567\n",
       "crd_rac                    7394\n",
       "crd_autres                 6988\n",
       "cat_impayes                6675\n",
       "IMPAYES_DEBUT              6675\n",
       "crd_immo                   6529\n",
       "ORIENTATION                3619\n",
       "age                        3172\n",
       "tranche_age                3104\n",
       "crd_renouv                 2218\n",
       "crd_amort                  1634\n",
       "PROF                        805\n",
       "NATURE_DIFF                 331\n",
       "moy_eco_jour                183\n",
       "cat_moy_eco_jour            183\n",
       "RAV_UC                      177\n",
       "situation                   177\n",
       "cat_RAV_UC                  177\n",
       "adulte_foyer                177\n",
       "LOGEMENT                    158\n",
       "region                       49\n",
       "cat_credit                    1\n",
       "pers_a_charge                 0\n",
       "PLATEFORME                    0\n",
       "year                          0\n",
       "month                         0\n",
       "nb_decouvert                  0\n",
       "nb_autres                     0\n",
       "nb_rac                        0\n",
       "nb_immo                       0\n",
       "nb_credits                    0\n",
       "nb_renouv                     0\n",
       "REVENUS                       0\n",
       "cat_rev                       0\n",
       "CHARGES                       0\n",
       "cat_charges                   0\n",
       "CREDITS                       0\n",
       "nb_amort                      0\n",
       "CRD                           0\n",
       "RAV_ouverture                 0\n",
       "cat_RAV_ouverture             0\n",
       "STRUCTURE PRESCRIPTRICE       0\n",
       "dtype: int64"
      ]
     },
     "execution_count": 189,
     "metadata": {},
     "output_type": "execute_result"
    }
   ],
   "source": [
    "df_general.isna().sum().sort_values(ascending=False)"
   ]
  },
  {
   "cell_type": "code",
   "execution_count": 1,
   "metadata": {},
   "outputs": [],
   "source": [
    "# import seaborn as sns\n",
    "# import numpy as np\n",
    "# import matplotlib.pyplot as plt\n",
    "\n",
    "# corr = check_df.corr()\n",
    "# # Generate a mask for the upper triangle\n",
    "# mask = np.zeros_like(corr, dtype=np.bool)\n",
    "# mask[np.triu_indices_from(mask)] = True\n",
    "\n",
    "# # Set up the matplotlib figure\n",
    "# f, ax = plt.subplots(figsize=(11, 9))\n",
    "\n",
    "# # Generate a custom diverging colormap\n",
    "# cmap = sns.diverging_palette(220, 10, as_cmap=True)\n",
    "\n",
    "# # Draw the heatmap with the mask and correct aspect ratio\n",
    "# sns.heatmap(corr, mask=mask, cmap=cmap, vmax=1, center=0,\n",
    "#             square=True, linewidths=.5, cbar_kws={\"shrink\": .5})"
   ]
  },
  {
   "cell_type": "code",
   "execution_count": null,
   "metadata": {},
   "outputs": [],
   "source": []
  },
  {
   "cell_type": "code",
   "execution_count": null,
   "metadata": {},
   "outputs": [],
   "source": []
  },
  {
   "cell_type": "code",
   "execution_count": null,
   "metadata": {},
   "outputs": [],
   "source": []
  },
  {
   "cell_type": "code",
   "execution_count": null,
   "metadata": {},
   "outputs": [],
   "source": []
  },
  {
   "cell_type": "code",
   "execution_count": null,
   "metadata": {},
   "outputs": [],
   "source": []
  },
  {
   "cell_type": "code",
   "execution_count": null,
   "metadata": {},
   "outputs": [],
   "source": []
  },
  {
   "cell_type": "code",
   "execution_count": null,
   "metadata": {},
   "outputs": [],
   "source": []
  },
  {
   "cell_type": "code",
   "execution_count": null,
   "metadata": {},
   "outputs": [],
   "source": []
  },
  {
   "cell_type": "code",
   "execution_count": null,
   "metadata": {},
   "outputs": [],
   "source": []
  },
  {
   "cell_type": "code",
   "execution_count": null,
   "metadata": {},
   "outputs": [],
   "source": []
  },
  {
   "cell_type": "code",
   "execution_count": null,
   "metadata": {},
   "outputs": [],
   "source": []
  },
  {
   "cell_type": "code",
   "execution_count": null,
   "metadata": {},
   "outputs": [],
   "source": []
  },
  {
   "cell_type": "code",
   "execution_count": 273,
   "metadata": {},
   "outputs": [],
   "source": [
    "def clean(self):\n",
    "    # Filling NAs\n",
    "    return self.fillna(self.mean()).fillna('unknown')"
   ]
  },
  {
   "cell_type": "code",
   "execution_count": 107,
   "metadata": {},
   "outputs": [],
   "source": [
    "def fit_transform(self):  \n",
    "    # Encoding all the features as int, and saving an encoder by column\n",
    "    return self.apply(lambda x: self.dict_encoder[x.name].fit_transform(x))"
   ]
  },
  {
   "cell_type": "code",
   "execution_count": 108,
   "metadata": {},
   "outputs": [],
   "source": [
    "def inverse_transform(self):\n",
    "    # Retriving value before encoding\n",
    "    return self.apply(lambda x: self.dict_encoder[x.name].inverse_transform(x))"
   ]
  },
  {
   "cell_type": "code",
   "execution_count": 274,
   "metadata": {},
   "outputs": [],
   "source": [
    "methods_and_attributes = {\n",
    "    'clean' : clean,\n",
    "    'dict_encoder' : defaultdict(LabelEncoder),\n",
    "    'fit_transform' : fit_transform,\n",
    "    'inverse_transform' : inverse_transform\n",
    "}"
   ]
  },
  {
   "cell_type": "code",
   "execution_count": 275,
   "metadata": {},
   "outputs": [],
   "source": [
    "for ma in methods_and_attributes.keys():\n",
    "    setattr(pd.DataFrame, ma, methods_and_attributes[ma])"
   ]
  }
 ],
 "metadata": {
  "kernelspec": {
   "display_name": "Python 3",
   "language": "python",
   "name": "python3"
  },
  "language_info": {
   "codemirror_mode": {
    "name": "ipython",
    "version": 3
   },
   "file_extension": ".py",
   "mimetype": "text/x-python",
   "name": "python",
   "nbconvert_exporter": "python",
   "pygments_lexer": "ipython3",
   "version": "3.6.7"
  }
 },
 "nbformat": 4,
 "nbformat_minor": 2
}
