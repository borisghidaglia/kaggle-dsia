{
 "cells": [
  {
   "cell_type": "code",
   "execution_count": 2144,
   "metadata": {},
   "outputs": [],
   "source": [
    "import numpy as np\n",
    "import pandas as pd\n",
    "\n",
    "from collections import defaultdict\n",
    "from sklearn.preprocessing import LabelEncoder, OneHotEncoder\n",
    "from sklearn.model_selection import cross_val_score"
   ]
  },
  {
   "cell_type": "markdown",
   "metadata": {},
   "source": [
    " \n",
    " \n",
    " "
   ]
  },
  {
   "cell_type": "markdown",
   "metadata": {},
   "source": [
    " \n",
    " \n",
    " "
   ]
  },
  {
   "cell_type": "markdown",
   "metadata": {},
   "source": [
    " \n",
    " \n",
    " "
   ]
  },
  {
   "cell_type": "code",
   "execution_count": 2145,
   "metadata": {},
   "outputs": [],
   "source": [
    "def clean(self):\n",
    "    # Filling NAs\n",
    "    return self.fillna(self.mean()).fillna('unknown')"
   ]
  },
  {
   "cell_type": "code",
   "execution_count": 2146,
   "metadata": {},
   "outputs": [],
   "source": [
    "def fit_transform(self):  \n",
    "    # Encoding all the features as int, and saving an encoder by column\n",
    "    return self.apply(lambda x: self.dict_encoder[x.name].fit_transform(x))"
   ]
  },
  {
   "cell_type": "code",
   "execution_count": 2147,
   "metadata": {},
   "outputs": [],
   "source": [
    "def inverse_transform(self):\n",
    "    # Retriving value before encoding\n",
    "    return self.apply(lambda x: self.dict_encoder[x.name].inverse_transform(x))"
   ]
  },
  {
   "cell_type": "code",
   "execution_count": 2148,
   "metadata": {},
   "outputs": [],
   "source": [
    "methods_and_attributes = {\n",
    "    'clean' : clean,\n",
    "    'dict_encoder' : defaultdict(LabelEncoder),\n",
    "    'fit_transform' : fit_transform,\n",
    "    'inverse_transform' : inverse_transform\n",
    "}"
   ]
  },
  {
   "cell_type": "code",
   "execution_count": 2149,
   "metadata": {},
   "outputs": [],
   "source": [
    "for ma in methods_and_attributes.keys():\n",
    "    setattr(pd.DataFrame, ma, methods_and_attributes[ma])"
   ]
  },
  {
   "cell_type": "markdown",
   "metadata": {},
   "source": [
    " "
   ]
  },
  {
   "cell_type": "markdown",
   "metadata": {},
   "source": [
    " \n",
    " \n",
    " "
   ]
  },
  {
   "cell_type": "markdown",
   "metadata": {},
   "source": [
    " \n",
    " \n",
    " "
   ]
  },
  {
   "cell_type": "code",
   "execution_count": 2150,
   "metadata": {},
   "outputs": [],
   "source": [
    "# Importing data\n",
    "test = pd.read_csv('data/test.csv', index_col='id', na_values=['\\\\N', 'Non Renseigne'])\n",
    "train = pd.read_csv('data/train.csv', index_col='id', na_values=['\\\\N', 'Non Renseigne'])"
   ]
  },
  {
   "cell_type": "code",
   "execution_count": 2151,
   "metadata": {},
   "outputs": [],
   "source": [
    "# For exploration purposes\n",
    "df_general = pd.concat([train, test], sort=False)"
   ]
  },
  {
   "cell_type": "markdown",
   "metadata": {},
   "source": [
    "## Removing dangerous columns"
   ]
  },
  {
   "cell_type": "code",
   "execution_count": 2152,
   "metadata": {
    "scrolled": false
   },
   "outputs": [],
   "source": [
    "train = train.drop(['STRUCTURE PRESCRIPTRICE', 'year', 'month'], axis=1)"
   ]
  },
  {
   "cell_type": "code",
   "execution_count": 2153,
   "metadata": {},
   "outputs": [],
   "source": [
    "test = test.drop(['STRUCTURE PRESCRIPTRICE', 'year', 'month'], axis=1)"
   ]
  },
  {
   "cell_type": "markdown",
   "metadata": {},
   "source": [
    "## Filling NaNs"
   ]
  },
  {
   "cell_type": "markdown",
   "metadata": {},
   "source": [
    "### Some NaNs are just zeros."
   ]
  },
  {
   "cell_type": "code",
   "execution_count": 2154,
   "metadata": {},
   "outputs": [],
   "source": [
    "def fill_stupid_nans(df):\n",
    "    cols_int_float = ['gain_mediation', 'crd_decouvert', 'crd_rac', 'crd_autres', 'IMPAYES_DEBUT', 'crd_immo',\\\n",
    "            'crd_renouv', 'crd_amort']\n",
    "    cols_str = ['cat_impayes']\n",
    "    \n",
    "    for col in cols_int_float:\n",
    "        df[col] = df[col].fillna(0)\n",
    "    \n",
    "    for col in cols_str:\n",
    "        df[col] = df[col].fillna('0')\n",
    "        \n",
    "    return df"
   ]
  },
  {
   "cell_type": "code",
   "execution_count": 2155,
   "metadata": {},
   "outputs": [],
   "source": [
    "train = fill_stupid_nans(train)"
   ]
  },
  {
   "cell_type": "code",
   "execution_count": 2156,
   "metadata": {},
   "outputs": [],
   "source": [
    "test = fill_stupid_nans(test)"
   ]
  },
  {
   "cell_type": "markdown",
   "metadata": {},
   "source": [
    "### Regression to guess age"
   ]
  },
  {
   "cell_type": "code",
   "execution_count": 2157,
   "metadata": {},
   "outputs": [],
   "source": [
    "from sklearn.linear_model import LinearRegression\n",
    "from sklearn.metrics import mean_absolute_error, mean_squared_error\n",
    "from sklearn.model_selection import train_test_split"
   ]
  },
  {
   "cell_type": "markdown",
   "metadata": {},
   "source": [
    "Cleaning"
   ]
  },
  {
   "cell_type": "code",
   "execution_count": 2158,
   "metadata": {},
   "outputs": [],
   "source": [
    "reg_age = LinearRegression(normalize=True)\n",
    "# from sklearn.ensemble import RandomForestRegressor\n",
    "# reg_age = RandomForestRegressor(n_estimators=1000, max_depth=5, random_state=42, n_jobs=4)"
   ]
  },
  {
   "cell_type": "code",
   "execution_count": 2159,
   "metadata": {},
   "outputs": [],
   "source": [
    "df_age = df_general[['situation', 'PROF', 'pers_a_charge', 'REVENUS', 'age']]"
   ]
  },
  {
   "cell_type": "code",
   "execution_count": 2160,
   "metadata": {},
   "outputs": [
    {
     "name": "stderr",
     "output_type": "stream",
     "text": [
      "/home/borisghidaglia/.local/lib/python3.6/site-packages/ipykernel_launcher.py:1: SettingWithCopyWarning: \n",
      "A value is trying to be set on a copy of a slice from a DataFrame.\n",
      "Try using .loc[row_indexer,col_indexer] = value instead\n",
      "\n",
      "See the caveats in the documentation: http://pandas.pydata.org/pandas-docs/stable/indexing.html#indexing-view-versus-copy\n",
      "  \"\"\"Entry point for launching an IPython kernel.\n",
      "/home/borisghidaglia/.local/lib/python3.6/site-packages/ipykernel_launcher.py:2: SettingWithCopyWarning: \n",
      "A value is trying to be set on a copy of a slice from a DataFrame.\n",
      "Try using .loc[row_indexer,col_indexer] = value instead\n",
      "\n",
      "See the caveats in the documentation: http://pandas.pydata.org/pandas-docs/stable/indexing.html#indexing-view-versus-copy\n",
      "  \n"
     ]
    }
   ],
   "source": [
    "df_age['pers_a_charge_2'] = df_age['pers_a_charge']**2\n",
    "df_age['pers_a_charge_3'] = df_age['pers_a_charge']**3"
   ]
  },
  {
   "cell_type": "code",
   "execution_count": 2161,
   "metadata": {},
   "outputs": [],
   "source": [
    "df_age = df_age.dropna()"
   ]
  },
  {
   "cell_type": "code",
   "execution_count": 2162,
   "metadata": {},
   "outputs": [],
   "source": [
    "y_age = df_age.age"
   ]
  },
  {
   "cell_type": "code",
   "execution_count": 2163,
   "metadata": {},
   "outputs": [],
   "source": [
    "df_age = pd.get_dummies(df_age.drop('age', axis=1))"
   ]
  },
  {
   "cell_type": "code",
   "execution_count": 2164,
   "metadata": {},
   "outputs": [
    {
     "data": {
      "text/plain": [
       "array([0.61394061, 0.6357755 , 0.63509313, 0.65926936, 0.64891669])"
      ]
     },
     "execution_count": 2164,
     "metadata": {},
     "output_type": "execute_result"
    }
   ],
   "source": [
    "cross_val_score(reg_age, df_age, y_age, cv=5)"
   ]
  },
  {
   "cell_type": "code",
   "execution_count": 2165,
   "metadata": {},
   "outputs": [],
   "source": [
    "X_train, X_test, y_train, y_test = train_test_split(df_age, y_age, test_size=0.33, random_state=42)"
   ]
  },
  {
   "cell_type": "code",
   "execution_count": 2166,
   "metadata": {},
   "outputs": [
    {
     "data": {
      "text/plain": [
       "LinearRegression(copy_X=True, fit_intercept=True, n_jobs=None, normalize=True)"
      ]
     },
     "execution_count": 2166,
     "metadata": {},
     "output_type": "execute_result"
    }
   ],
   "source": [
    "reg_age.fit(X_train, y_train)"
   ]
  },
  {
   "cell_type": "code",
   "execution_count": 2167,
   "metadata": {},
   "outputs": [
    {
     "data": {
      "text/plain": [
       "array([68.3984375, 68.359375 , 44.6953125, ..., 46.0625   , 43.7734375,\n",
       "       43.90625  ])"
      ]
     },
     "execution_count": 2167,
     "metadata": {},
     "output_type": "execute_result"
    }
   ],
   "source": [
    "reg_age.predict(X_test)"
   ]
  },
  {
   "cell_type": "markdown",
   "metadata": {},
   "source": [
    "Mean absolute error and mean squared error with this technique :"
   ]
  },
  {
   "cell_type": "code",
   "execution_count": 2168,
   "metadata": {},
   "outputs": [
    {
     "data": {
      "text/plain": [
       "6.439388800523952"
      ]
     },
     "execution_count": 2168,
     "metadata": {},
     "output_type": "execute_result"
    }
   ],
   "source": [
    "mean_absolute_error(reg_age.predict(X_test), y_test)"
   ]
  },
  {
   "cell_type": "code",
   "execution_count": 2169,
   "metadata": {},
   "outputs": [
    {
     "data": {
      "text/plain": [
       "66.14205918911688"
      ]
     },
     "execution_count": 2169,
     "metadata": {},
     "output_type": "execute_result"
    }
   ],
   "source": [
    "mean_squared_error(reg_age.predict(X_test), y_test)"
   ]
  },
  {
   "cell_type": "markdown",
   "metadata": {},
   "source": [
    "What if we have filled them with the mean ?"
   ]
  },
  {
   "cell_type": "code",
   "execution_count": 2170,
   "metadata": {},
   "outputs": [
    {
     "data": {
      "text/plain": [
       "11.49999194449218"
      ]
     },
     "execution_count": 2170,
     "metadata": {},
     "output_type": "execute_result"
    }
   ],
   "source": [
    "((y_age.mean() - y_age).abs()).mean()"
   ]
  },
  {
   "cell_type": "code",
   "execution_count": 2171,
   "metadata": {},
   "outputs": [
    {
     "data": {
      "text/plain": [
       "187.5272537358028"
      ]
     },
     "execution_count": 2171,
     "metadata": {},
     "output_type": "execute_result"
    }
   ],
   "source": [
    "((y_age.mean() - y_age)**2).mean()"
   ]
  },
  {
   "cell_type": "markdown",
   "metadata": {},
   "source": [
    "And with the median ?"
   ]
  },
  {
   "cell_type": "code",
   "execution_count": 2172,
   "metadata": {},
   "outputs": [
    {
     "data": {
      "text/plain": [
       "11.498517786561266"
      ]
     },
     "execution_count": 2172,
     "metadata": {},
     "output_type": "execute_result"
    }
   ],
   "source": [
    "((y_age.median() - y_age).abs()).mean()"
   ]
  },
  {
   "cell_type": "code",
   "execution_count": 2173,
   "metadata": {},
   "outputs": [
    {
     "data": {
      "text/plain": [
       "187.52816205533597"
      ]
     },
     "execution_count": 2173,
     "metadata": {},
     "output_type": "execute_result"
    }
   ],
   "source": [
    "((y_age.median() - y_age)**2).mean()"
   ]
  },
  {
   "cell_type": "markdown",
   "metadata": {},
   "source": [
    "CCL : pretty useful, so lets fill the NaNs this way."
   ]
  },
  {
   "cell_type": "markdown",
   "metadata": {},
   "source": [
    "Let's fit it on the entire df"
   ]
  },
  {
   "cell_type": "code",
   "execution_count": 2174,
   "metadata": {},
   "outputs": [
    {
     "data": {
      "text/plain": [
       "LinearRegression(copy_X=True, fit_intercept=True, n_jobs=None, normalize=True)"
      ]
     },
     "execution_count": 2174,
     "metadata": {},
     "output_type": "execute_result"
    }
   ],
   "source": [
    "reg_age.fit(df_age, y_age)"
   ]
  },
  {
   "cell_type": "markdown",
   "metadata": {},
   "source": [
    "Now let's apply it to the train and test"
   ]
  },
  {
   "cell_type": "code",
   "execution_count": 2175,
   "metadata": {},
   "outputs": [],
   "source": [
    "def clean_df_age(df):\n",
    "    df = df[['situation', 'PROF', 'pers_a_charge', 'REVENUS']]\n",
    "    df['pers_a_charge_2'] = df['pers_a_charge']**2\n",
    "    df['pers_a_charge_3'] = df['pers_a_charge']**3\n",
    "    df = df.fillna('Unknown')\n",
    "    df = pd.get_dummies(df)\n",
    "    df = df.drop(['PROF_Unknown', 'situation_Unknown'], axis=1)\n",
    "    return df"
   ]
  },
  {
   "cell_type": "markdown",
   "metadata": {},
   "source": [
    "On train"
   ]
  },
  {
   "cell_type": "code",
   "execution_count": 2176,
   "metadata": {},
   "outputs": [
    {
     "name": "stderr",
     "output_type": "stream",
     "text": [
      "/home/borisghidaglia/.local/lib/python3.6/site-packages/ipykernel_launcher.py:3: SettingWithCopyWarning: \n",
      "A value is trying to be set on a copy of a slice from a DataFrame.\n",
      "Try using .loc[row_indexer,col_indexer] = value instead\n",
      "\n",
      "See the caveats in the documentation: http://pandas.pydata.org/pandas-docs/stable/indexing.html#indexing-view-versus-copy\n",
      "  This is separate from the ipykernel package so we can avoid doing imports until\n",
      "/home/borisghidaglia/.local/lib/python3.6/site-packages/ipykernel_launcher.py:4: SettingWithCopyWarning: \n",
      "A value is trying to be set on a copy of a slice from a DataFrame.\n",
      "Try using .loc[row_indexer,col_indexer] = value instead\n",
      "\n",
      "See the caveats in the documentation: http://pandas.pydata.org/pandas-docs/stable/indexing.html#indexing-view-versus-copy\n",
      "  after removing the cwd from sys.path.\n"
     ]
    }
   ],
   "source": [
    "train_age_nans = clean_df_age(train.loc[train.age.isna(),:])"
   ]
  },
  {
   "cell_type": "code",
   "execution_count": 2177,
   "metadata": {},
   "outputs": [],
   "source": [
    "train.loc[train.age.isna(), 'age'] = reg_age.predict(train_age_nans)"
   ]
  },
  {
   "cell_type": "markdown",
   "metadata": {},
   "source": [
    "On test"
   ]
  },
  {
   "cell_type": "code",
   "execution_count": 2178,
   "metadata": {},
   "outputs": [
    {
     "name": "stderr",
     "output_type": "stream",
     "text": [
      "/home/borisghidaglia/.local/lib/python3.6/site-packages/ipykernel_launcher.py:3: SettingWithCopyWarning: \n",
      "A value is trying to be set on a copy of a slice from a DataFrame.\n",
      "Try using .loc[row_indexer,col_indexer] = value instead\n",
      "\n",
      "See the caveats in the documentation: http://pandas.pydata.org/pandas-docs/stable/indexing.html#indexing-view-versus-copy\n",
      "  This is separate from the ipykernel package so we can avoid doing imports until\n",
      "/home/borisghidaglia/.local/lib/python3.6/site-packages/ipykernel_launcher.py:4: SettingWithCopyWarning: \n",
      "A value is trying to be set on a copy of a slice from a DataFrame.\n",
      "Try using .loc[row_indexer,col_indexer] = value instead\n",
      "\n",
      "See the caveats in the documentation: http://pandas.pydata.org/pandas-docs/stable/indexing.html#indexing-view-versus-copy\n",
      "  after removing the cwd from sys.path.\n"
     ]
    }
   ],
   "source": [
    "test_age_nans = clean_df_age(test.loc[test.age.isna(), :])"
   ]
  },
  {
   "cell_type": "markdown",
   "metadata": {},
   "source": [
    "As there was no pro, the PROF_pro column hasn't been created, thus we have to do it."
   ]
  },
  {
   "cell_type": "code",
   "execution_count": 2179,
   "metadata": {},
   "outputs": [],
   "source": [
    "test_age_nans['PROF_pro'] = 0"
   ]
  },
  {
   "cell_type": "code",
   "execution_count": 2180,
   "metadata": {},
   "outputs": [],
   "source": [
    "test.loc[test.age.isna(), 'age'] = reg_age.predict(test_age_nans)"
   ]
  },
  {
   "cell_type": "markdown",
   "metadata": {},
   "source": [
    "### Filling tranche_age given age"
   ]
  },
  {
   "cell_type": "markdown",
   "metadata": {},
   "source": [
    "Fixing tranche_age name problems"
   ]
  },
  {
   "cell_type": "code",
   "execution_count": 2181,
   "metadata": {},
   "outputs": [],
   "source": [
    "def rename_tranche_age(df):\n",
    "    df.tranche_age.replace('35-34ans', '25-34ans', inplace=True)\n",
    "    df.tranche_age.replace('40-44ans', '35-44ans', inplace=True)\n",
    "    df.tranche_age.replace('75ans_et+', '>75ans', inplace=True)\n",
    "    return df"
   ]
  },
  {
   "cell_type": "code",
   "execution_count": 2182,
   "metadata": {},
   "outputs": [],
   "source": [
    "def assign_tranche_age_to_age(x):\n",
    "    age = float(x['age'])\n",
    "    \n",
    "    if age < 25:\n",
    "        x['tranche_age'] = '<25ans'\n",
    "    elif 25 <= age < 35:\n",
    "        x['tranche_age'] = '25-34ans'\n",
    "    elif 35 <= age < 45:\n",
    "        x['tranche_age'] = '35-44ans'\n",
    "    elif 45 <= age < 55:\n",
    "        x['tranche_age'] = '45-54ans'\n",
    "    elif 55 <= age < 65:\n",
    "        x['tranche_age'] = '55-64ans'\n",
    "    elif 65 <= age < 75:\n",
    "        x['tranche_age'] = '65-75ans'\n",
    "    elif age > 75:\n",
    "        x['tranche_age'] = '>75ans'\n",
    "        \n",
    "    return x"
   ]
  },
  {
   "cell_type": "code",
   "execution_count": 2183,
   "metadata": {},
   "outputs": [],
   "source": [
    "def clean_tranche_age_with_age(df):\n",
    "    df = rename_tranche_age(df)\n",
    "    df.loc[df.tranche_age.isna(), ['age', 'tranche_age']] = df.loc[df.tranche_age.isna(), ['age', 'tranche_age']].apply(assign_tranche_age_to_age, axis=1)\n",
    "    return df"
   ]
  },
  {
   "cell_type": "code",
   "execution_count": 2184,
   "metadata": {},
   "outputs": [],
   "source": [
    "train = clean_tranche_age_with_age(train)"
   ]
  },
  {
   "cell_type": "code",
   "execution_count": 2185,
   "metadata": {},
   "outputs": [],
   "source": [
    "test = clean_tranche_age_with_age(test)"
   ]
  },
  {
   "cell_type": "markdown",
   "metadata": {},
   "source": [
    "### Dealing with column types"
   ]
  },
  {
   "cell_type": "code",
   "execution_count": 2186,
   "metadata": {},
   "outputs": [],
   "source": [
    "categories = [key for key in dict(train.dtypes) \\\n",
    "              if (dict(train.dtypes)[key] in [object]) \\\n",
    "              and (key not in ['RAV_UC', 'CRD', 'moy_eco_jour']) ]\n",
    "\n",
    "col_floats = ['RAV_UC', 'CRD', 'moy_eco_jour']"
   ]
  },
  {
   "cell_type": "code",
   "execution_count": 2187,
   "metadata": {},
   "outputs": [],
   "source": [
    "def clean_col_types(df, is_y=False):\n",
    "    \n",
    "    local_categories = categories.copy()\n",
    "    \n",
    "    if is_y:\n",
    "        local_categories.remove('ORIENTATION')\n",
    "    \n",
    "    # Replacing the commas by dots\n",
    "    df.loc[:, col_floats] = df.loc[:, col_floats].apply(lambda x : x.str.replace(',', '.'))\n",
    "    \n",
    "    # Selecting types\n",
    "    df.loc[:, local_categories] = df.loc[:, local_categories].astype('category')\n",
    "    df.loc[:, col_floats] = df.loc[:, col_floats].astype(float)\n",
    "    \n",
    "    return df"
   ]
  },
  {
   "cell_type": "code",
   "execution_count": 2188,
   "metadata": {},
   "outputs": [],
   "source": [
    "test = clean_col_types(test, is_y=True)"
   ]
  },
  {
   "cell_type": "code",
   "execution_count": 2189,
   "metadata": {},
   "outputs": [],
   "source": [
    "train = clean_col_types(train)"
   ]
  },
  {
   "cell_type": "markdown",
   "metadata": {},
   "source": [
    "### Testing random forest"
   ]
  },
  {
   "cell_type": "markdown",
   "metadata": {},
   "source": [
    "We want to drop nans for the train"
   ]
  },
  {
   "cell_type": "code",
   "execution_count": 2190,
   "metadata": {},
   "outputs": [],
   "source": [
    "train = train.dropna()"
   ]
  },
  {
   "cell_type": "markdown",
   "metadata": {},
   "source": [
    "But for the test we have to find something else : we will fill catagorial columns with a new category : unknown, and the numerical ones with their mean."
   ]
  },
  {
   "cell_type": "code",
   "execution_count": 2191,
   "metadata": {},
   "outputs": [],
   "source": [
    "# Columns in which we want to add an unknown column (we can't drop nans because it s the test)\n",
    "cols_nans_unknown = ['PROF', 'NATURE_DIFF', 'cat_moy_eco_jour', 'cat_RAV_UC', 'situation', 'LOGEMENT', 'region', 'cat_credit']"
   ]
  },
  {
   "cell_type": "code",
   "execution_count": 2192,
   "metadata": {},
   "outputs": [],
   "source": [
    "for elt in cols_nans_unknown:\n",
    "    test[elt] = test[elt].cat.add_categories(['unknown'])"
   ]
  },
  {
   "cell_type": "code",
   "execution_count": 2193,
   "metadata": {},
   "outputs": [],
   "source": [
    "test.loc[:,cols_nans_unknown] = test.loc[:,cols_nans_unknown].fillna('unknown')"
   ]
  },
  {
   "cell_type": "code",
   "execution_count": 2194,
   "metadata": {},
   "outputs": [],
   "source": [
    "test = test.fillna(test.mean())"
   ]
  },
  {
   "cell_type": "code",
   "execution_count": 2195,
   "metadata": {},
   "outputs": [],
   "source": [
    "category_cols = [key for key in dict(train.dtypes) if (dict(train.dtypes)[key] not in ['float64', 'int64']) \\\n",
    "                 and (key not in ['ORIENTATION'])]"
   ]
  },
  {
   "cell_type": "code",
   "execution_count": 2196,
   "metadata": {},
   "outputs": [],
   "source": [
    "train[category_cols] = train[category_cols].fit_transform()"
   ]
  },
  {
   "cell_type": "code",
   "execution_count": 2197,
   "metadata": {},
   "outputs": [],
   "source": [
    "test[category_cols] = test[category_cols].fit_transform()"
   ]
  },
  {
   "cell_type": "markdown",
   "metadata": {},
   "source": [
    "No we can use our model."
   ]
  },
  {
   "cell_type": "markdown",
   "metadata": {},
   "source": [
    "#### RandomForestClassifier"
   ]
  },
  {
   "cell_type": "code",
   "execution_count": 2198,
   "metadata": {},
   "outputs": [],
   "source": [
    "# cv : 0.5752690300946961\n",
    "# local_test : 0.5907241659886087\n",
    "#train = train[[col for col in train.columns if not 'cat_' in col]]\n",
    "\n",
    "\n",
    "# train = train[[col for col in train.columns if not 'cat_' in col]]"
   ]
  },
  {
   "cell_type": "code",
   "execution_count": 2199,
   "metadata": {},
   "outputs": [
    {
     "data": {
      "text/plain": [
       "Surendettement                   0.414654\n",
       "Accompagnement                   0.405699\n",
       "Aucune                           0.087110\n",
       "Mediation                        0.084396\n",
       "Autres Procédures Collectives    0.007056\n",
       "Microcredit                      0.001085\n",
       "Name: ORIENTATION, dtype: float64"
      ]
     },
     "execution_count": 2199,
     "metadata": {},
     "output_type": "execute_result"
    }
   ],
   "source": [
    "train.ORIENTATION.value_counts(normalize=True)"
   ]
  },
  {
   "cell_type": "markdown",
   "metadata": {},
   "source": [
    "Removing *Autres Procédures Collectives* and *Microcredit* because they are very badly predicted with the following method."
   ]
  },
  {
   "cell_type": "code",
   "execution_count": 2200,
   "metadata": {},
   "outputs": [],
   "source": [
    "# train = train.loc[~train.ORIENTATION.isin(['Autres Procédures Collectives', 'Microcredit']),:]\n",
    "# train.ORIENTATION = train.ORIENTATION.cat.remove_categories(['Autres Procédures Collectives', 'Microcredit'])"
   ]
  },
  {
   "cell_type": "code",
   "execution_count": 2201,
   "metadata": {},
   "outputs": [
    {
     "data": {
      "text/plain": [
       "Index(['PLATEFORME', 'region', 'ORIENTATION', 'NATURE_DIFF', 'age',\n",
       "       'tranche_age', 'situation', 'adulte_foyer', 'pers_a_charge', 'PROF',\n",
       "       'LOGEMENT', 'REVENUS', 'cat_rev', 'CHARGES', 'cat_charges', 'CREDITS',\n",
       "       'cat_credit', 'IMPAYES_DEBUT', 'cat_impayes', 'RAV_ouverture',\n",
       "       'cat_RAV_ouverture', 'RAV_UC', 'cat_RAV_UC', 'nb_credits', 'CRD',\n",
       "       'gain_mediation', 'nb_amort', 'crd_amort', 'nb_renouv', 'crd_renouv',\n",
       "       'nb_immo', 'crd_immo', 'nb_rac', 'crd_rac', 'nb_autres', 'crd_autres',\n",
       "       'nb_decouvert', 'crd_decouvert', 'moy_eco_jour', 'cat_moy_eco_jour'],\n",
       "      dtype='object')"
      ]
     },
     "execution_count": 2201,
     "metadata": {},
     "output_type": "execute_result"
    }
   ],
   "source": [
    "train.columns"
   ]
  },
  {
   "cell_type": "code",
   "execution_count": 2202,
   "metadata": {},
   "outputs": [],
   "source": [
    "from sklearn.ensemble import RandomForestClassifier\n",
    "from sklearn.multioutput import MultiOutputClassifier"
   ]
  },
  {
   "cell_type": "code",
   "execution_count": 2203,
   "metadata": {},
   "outputs": [],
   "source": [
    "rf = RandomForestClassifier(n_estimators=1000, max_depth=10, max_features=5, criterion='gini', random_state=42, n_jobs=4)"
   ]
  },
  {
   "cell_type": "code",
   "execution_count": 2204,
   "metadata": {},
   "outputs": [],
   "source": [
    "moc = MultiOutputClassifier(rf)"
   ]
  },
  {
   "cell_type": "code",
   "execution_count": 2205,
   "metadata": {},
   "outputs": [],
   "source": [
    "# orientation_cols = [col for col in dummified_train if col.startswith('ORIENTATION')]"
   ]
  },
  {
   "cell_type": "code",
   "execution_count": 2206,
   "metadata": {},
   "outputs": [],
   "source": [
    "# Creating local train and test\n",
    "# local_X_train, local_X_test, local_y_train, local_y_test = \\\n",
    "#     train_test_split(dummified_train.drop(orientation_cols, axis=1),\\\n",
    "#                      dummified_train.loc[:, orientation_cols], \\\n",
    "#                      test_size=1/3, \\\n",
    "#                      random_state=42)\n",
    "\n",
    "local_X_train, local_X_test, local_y_train, local_y_test = \\\n",
    "    train_test_split(train.drop('ORIENTATION', axis=1),\\\n",
    "                     train.loc[:, 'ORIENTATION'], \\\n",
    "                     test_size=1/3, \\\n",
    "                     random_state=42)\n",
    "\n",
    "X_train_first, X_train_second, y_train_first, y_train_second = \\\n",
    "    train_test_split(local_X_train,\\\n",
    "                     local_y_train, \\\n",
    "                     test_size=1/3, \\\n",
    "                     random_state=42)"
   ]
  },
  {
   "cell_type": "markdown",
   "metadata": {},
   "source": [
    "Training our MoC on the first part of the local train."
   ]
  },
  {
   "cell_type": "code",
   "execution_count": 2207,
   "metadata": {},
   "outputs": [
    {
     "data": {
      "text/plain": [
       "MultiOutputClassifier(estimator=RandomForestClassifier(bootstrap=True, class_weight=None, criterion='gini',\n",
       "            max_depth=10, max_features=5, max_leaf_nodes=None,\n",
       "            min_impurity_decrease=0.0, min_impurity_split=None,\n",
       "            min_samples_leaf=1, min_samples_split=2,\n",
       "            min_weight_fraction_leaf=0.0, n_estimators=1000, n_jobs=4,\n",
       "            oob_score=False, random_state=42, verbose=0, warm_start=False),\n",
       "           n_jobs=None)"
      ]
     },
     "execution_count": 2207,
     "metadata": {},
     "output_type": "execute_result"
    }
   ],
   "source": [
    "moc.fit(X_train_first, pd.get_dummies(y_train_first))"
   ]
  },
  {
   "cell_type": "markdown",
   "metadata": {},
   "source": [
    "Predicting on the second part of the local train : crating a dataframe with the probas."
   ]
  },
  {
   "cell_type": "code",
   "execution_count": 2208,
   "metadata": {},
   "outputs": [],
   "source": [
    "df_probas = pd.DataFrame()\n",
    "for i, elt in enumerate(moc.predict_proba(X_train_second)):\n",
    "    col_name = pd.get_dummies(y_train_first).columns[i]\n",
    "    buff_df = pd.DataFrame(columns=[f\"{col_name}_true\", f\"{col_name}_false\"], data=elt, index=X_train_second.index)\n",
    "    df_probas = pd.concat([df_probas, buff_df], axis=1)"
   ]
  },
  {
   "cell_type": "code",
   "execution_count": 2209,
   "metadata": {},
   "outputs": [],
   "source": [
    "df_probas = df_probas[[col for col in df_probas if not 'false' in col]]"
   ]
  },
  {
   "cell_type": "code",
   "execution_count": 2210,
   "metadata": {},
   "outputs": [
    {
     "data": {
      "text/html": [
       "<div>\n",
       "<style scoped>\n",
       "    .dataframe tbody tr th:only-of-type {\n",
       "        vertical-align: middle;\n",
       "    }\n",
       "\n",
       "    .dataframe tbody tr th {\n",
       "        vertical-align: top;\n",
       "    }\n",
       "\n",
       "    .dataframe thead th {\n",
       "        text-align: right;\n",
       "    }\n",
       "</style>\n",
       "<table border=\"1\" class=\"dataframe\">\n",
       "  <thead>\n",
       "    <tr style=\"text-align: right;\">\n",
       "      <th></th>\n",
       "      <th>Accompagnement_true</th>\n",
       "      <th>Aucune_true</th>\n",
       "      <th>Autres Procédures Collectives_true</th>\n",
       "      <th>Mediation_true</th>\n",
       "      <th>Microcredit_true</th>\n",
       "      <th>Surendettement_true</th>\n",
       "    </tr>\n",
       "    <tr>\n",
       "      <th>id</th>\n",
       "      <th></th>\n",
       "      <th></th>\n",
       "      <th></th>\n",
       "      <th></th>\n",
       "      <th></th>\n",
       "      <th></th>\n",
       "    </tr>\n",
       "  </thead>\n",
       "  <tbody>\n",
       "    <tr>\n",
       "      <th>653</th>\n",
       "      <td>0.775431</td>\n",
       "      <td>0.769165</td>\n",
       "      <td>0.997306</td>\n",
       "      <td>0.986333</td>\n",
       "      <td>1.0</td>\n",
       "      <td>0.442875</td>\n",
       "    </tr>\n",
       "    <tr>\n",
       "      <th>3180</th>\n",
       "      <td>0.273706</td>\n",
       "      <td>0.949968</td>\n",
       "      <td>0.999997</td>\n",
       "      <td>0.933689</td>\n",
       "      <td>1.0</td>\n",
       "      <td>0.912111</td>\n",
       "    </tr>\n",
       "    <tr>\n",
       "      <th>2194</th>\n",
       "      <td>0.240672</td>\n",
       "      <td>0.980865</td>\n",
       "      <td>0.999834</td>\n",
       "      <td>0.963826</td>\n",
       "      <td>1.0</td>\n",
       "      <td>0.763275</td>\n",
       "    </tr>\n",
       "    <tr>\n",
       "      <th>1035</th>\n",
       "      <td>0.842103</td>\n",
       "      <td>0.740976</td>\n",
       "      <td>0.997868</td>\n",
       "      <td>0.963945</td>\n",
       "      <td>1.0</td>\n",
       "      <td>0.345367</td>\n",
       "    </tr>\n",
       "    <tr>\n",
       "      <th>2550</th>\n",
       "      <td>0.789229</td>\n",
       "      <td>0.935038</td>\n",
       "      <td>0.996000</td>\n",
       "      <td>0.893062</td>\n",
       "      <td>1.0</td>\n",
       "      <td>0.422560</td>\n",
       "    </tr>\n",
       "  </tbody>\n",
       "</table>\n",
       "</div>"
      ],
      "text/plain": [
       "      Accompagnement_true  Aucune_true  Autres Procédures Collectives_true  \\\n",
       "id                                                                           \n",
       "653              0.775431     0.769165                            0.997306   \n",
       "3180             0.273706     0.949968                            0.999997   \n",
       "2194             0.240672     0.980865                            0.999834   \n",
       "1035             0.842103     0.740976                            0.997868   \n",
       "2550             0.789229     0.935038                            0.996000   \n",
       "\n",
       "      Mediation_true  Microcredit_true  Surendettement_true  \n",
       "id                                                           \n",
       "653         0.986333               1.0             0.442875  \n",
       "3180        0.933689               1.0             0.912111  \n",
       "2194        0.963826               1.0             0.763275  \n",
       "1035        0.963945               1.0             0.345367  \n",
       "2550        0.893062               1.0             0.422560  "
      ]
     },
     "execution_count": 2210,
     "metadata": {},
     "output_type": "execute_result"
    }
   ],
   "source": [
    "df_probas.head()"
   ]
  },
  {
   "cell_type": "markdown",
   "metadata": {},
   "source": [
    "Let's add some columns to this dataframe"
   ]
  },
  {
   "cell_type": "code",
   "execution_count": 2211,
   "metadata": {},
   "outputs": [],
   "source": [
    "for col in df_probas.columns:\n",
    "    df_probas[f\"{col}_log\"] = np.log(df_probas[col])\n",
    "    df_probas[f\"{col}**2\"] = df_probas[col]**2\n",
    "    df_probas[f\"{col}**3\"] = df_probas[col]**3\n",
    "    df_probas[\"acc_sur_by_others\"] = (df_probas['Accompagnement_true']*df_probas['Surendettement_true'])/(df_probas['Aucune_true']*df_probas['Autres Procédures Collectives_true']*df_probas['Mediation_true']*df_probas['Microcredit_true'])\n"
   ]
  },
  {
   "cell_type": "code",
   "execution_count": 2212,
   "metadata": {},
   "outputs": [
    {
     "data": {
      "text/html": [
       "<div>\n",
       "<style scoped>\n",
       "    .dataframe tbody tr th:only-of-type {\n",
       "        vertical-align: middle;\n",
       "    }\n",
       "\n",
       "    .dataframe tbody tr th {\n",
       "        vertical-align: top;\n",
       "    }\n",
       "\n",
       "    .dataframe thead th {\n",
       "        text-align: right;\n",
       "    }\n",
       "</style>\n",
       "<table border=\"1\" class=\"dataframe\">\n",
       "  <thead>\n",
       "    <tr style=\"text-align: right;\">\n",
       "      <th></th>\n",
       "      <th>Accompagnement_true</th>\n",
       "      <th>Aucune_true</th>\n",
       "      <th>Autres Procédures Collectives_true</th>\n",
       "      <th>Mediation_true</th>\n",
       "      <th>Microcredit_true</th>\n",
       "      <th>Surendettement_true</th>\n",
       "      <th>Accompagnement_true_log</th>\n",
       "      <th>Accompagnement_true**2</th>\n",
       "      <th>Accompagnement_true**3</th>\n",
       "      <th>acc_sur_by_others</th>\n",
       "      <th>...</th>\n",
       "      <th>Autres Procédures Collectives_true**3</th>\n",
       "      <th>Mediation_true_log</th>\n",
       "      <th>Mediation_true**2</th>\n",
       "      <th>Mediation_true**3</th>\n",
       "      <th>Microcredit_true_log</th>\n",
       "      <th>Microcredit_true**2</th>\n",
       "      <th>Microcredit_true**3</th>\n",
       "      <th>Surendettement_true_log</th>\n",
       "      <th>Surendettement_true**2</th>\n",
       "      <th>Surendettement_true**3</th>\n",
       "    </tr>\n",
       "    <tr>\n",
       "      <th>id</th>\n",
       "      <th></th>\n",
       "      <th></th>\n",
       "      <th></th>\n",
       "      <th></th>\n",
       "      <th></th>\n",
       "      <th></th>\n",
       "      <th></th>\n",
       "      <th></th>\n",
       "      <th></th>\n",
       "      <th></th>\n",
       "      <th></th>\n",
       "      <th></th>\n",
       "      <th></th>\n",
       "      <th></th>\n",
       "      <th></th>\n",
       "      <th></th>\n",
       "      <th></th>\n",
       "      <th></th>\n",
       "      <th></th>\n",
       "      <th></th>\n",
       "      <th></th>\n",
       "    </tr>\n",
       "  </thead>\n",
       "  <tbody>\n",
       "    <tr>\n",
       "      <th>653</th>\n",
       "      <td>0.775431</td>\n",
       "      <td>0.769165</td>\n",
       "      <td>0.997306</td>\n",
       "      <td>0.986333</td>\n",
       "      <td>1.0</td>\n",
       "      <td>0.442875</td>\n",
       "      <td>-0.254336</td>\n",
       "      <td>0.601293</td>\n",
       "      <td>0.466261</td>\n",
       "      <td>0.453892</td>\n",
       "      <td>...</td>\n",
       "      <td>0.991941</td>\n",
       "      <td>-0.013761</td>\n",
       "      <td>0.972853</td>\n",
       "      <td>0.959556</td>\n",
       "      <td>0.0</td>\n",
       "      <td>1.0</td>\n",
       "      <td>1.0</td>\n",
       "      <td>-0.814468</td>\n",
       "      <td>0.196138</td>\n",
       "      <td>0.086865</td>\n",
       "    </tr>\n",
       "    <tr>\n",
       "      <th>3180</th>\n",
       "      <td>0.273706</td>\n",
       "      <td>0.949968</td>\n",
       "      <td>0.999997</td>\n",
       "      <td>0.933689</td>\n",
       "      <td>1.0</td>\n",
       "      <td>0.912111</td>\n",
       "      <td>-1.295700</td>\n",
       "      <td>0.074915</td>\n",
       "      <td>0.020505</td>\n",
       "      <td>0.281464</td>\n",
       "      <td>...</td>\n",
       "      <td>0.999990</td>\n",
       "      <td>-0.068612</td>\n",
       "      <td>0.871775</td>\n",
       "      <td>0.813967</td>\n",
       "      <td>0.0</td>\n",
       "      <td>1.0</td>\n",
       "      <td>1.0</td>\n",
       "      <td>-0.091994</td>\n",
       "      <td>0.831946</td>\n",
       "      <td>0.758827</td>\n",
       "    </tr>\n",
       "    <tr>\n",
       "      <th>2194</th>\n",
       "      <td>0.240672</td>\n",
       "      <td>0.980865</td>\n",
       "      <td>0.999834</td>\n",
       "      <td>0.963826</td>\n",
       "      <td>1.0</td>\n",
       "      <td>0.763275</td>\n",
       "      <td>-1.424320</td>\n",
       "      <td>0.057923</td>\n",
       "      <td>0.013940</td>\n",
       "      <td>0.194344</td>\n",
       "      <td>...</td>\n",
       "      <td>0.999502</td>\n",
       "      <td>-0.036845</td>\n",
       "      <td>0.928960</td>\n",
       "      <td>0.895356</td>\n",
       "      <td>0.0</td>\n",
       "      <td>1.0</td>\n",
       "      <td>1.0</td>\n",
       "      <td>-0.270136</td>\n",
       "      <td>0.582589</td>\n",
       "      <td>0.444676</td>\n",
       "    </tr>\n",
       "    <tr>\n",
       "      <th>1035</th>\n",
       "      <td>0.842103</td>\n",
       "      <td>0.740976</td>\n",
       "      <td>0.997868</td>\n",
       "      <td>0.963945</td>\n",
       "      <td>1.0</td>\n",
       "      <td>0.345367</td>\n",
       "      <td>-0.171853</td>\n",
       "      <td>0.709138</td>\n",
       "      <td>0.597167</td>\n",
       "      <td>0.408053</td>\n",
       "      <td>...</td>\n",
       "      <td>0.993617</td>\n",
       "      <td>-0.036721</td>\n",
       "      <td>0.929191</td>\n",
       "      <td>0.895689</td>\n",
       "      <td>0.0</td>\n",
       "      <td>1.0</td>\n",
       "      <td>1.0</td>\n",
       "      <td>-1.063147</td>\n",
       "      <td>0.119279</td>\n",
       "      <td>0.041195</td>\n",
       "    </tr>\n",
       "    <tr>\n",
       "      <th>2550</th>\n",
       "      <td>0.789229</td>\n",
       "      <td>0.935038</td>\n",
       "      <td>0.996000</td>\n",
       "      <td>0.893062</td>\n",
       "      <td>1.0</td>\n",
       "      <td>0.422560</td>\n",
       "      <td>-0.236699</td>\n",
       "      <td>0.622883</td>\n",
       "      <td>0.491597</td>\n",
       "      <td>0.400978</td>\n",
       "      <td>...</td>\n",
       "      <td>0.988048</td>\n",
       "      <td>-0.113099</td>\n",
       "      <td>0.797559</td>\n",
       "      <td>0.712270</td>\n",
       "      <td>0.0</td>\n",
       "      <td>1.0</td>\n",
       "      <td>1.0</td>\n",
       "      <td>-0.861425</td>\n",
       "      <td>0.178557</td>\n",
       "      <td>0.075451</td>\n",
       "    </tr>\n",
       "  </tbody>\n",
       "</table>\n",
       "<p>5 rows × 25 columns</p>\n",
       "</div>"
      ],
      "text/plain": [
       "      Accompagnement_true  Aucune_true  Autres Procédures Collectives_true  \\\n",
       "id                                                                           \n",
       "653              0.775431     0.769165                            0.997306   \n",
       "3180             0.273706     0.949968                            0.999997   \n",
       "2194             0.240672     0.980865                            0.999834   \n",
       "1035             0.842103     0.740976                            0.997868   \n",
       "2550             0.789229     0.935038                            0.996000   \n",
       "\n",
       "      Mediation_true  Microcredit_true  Surendettement_true  \\\n",
       "id                                                            \n",
       "653         0.986333               1.0             0.442875   \n",
       "3180        0.933689               1.0             0.912111   \n",
       "2194        0.963826               1.0             0.763275   \n",
       "1035        0.963945               1.0             0.345367   \n",
       "2550        0.893062               1.0             0.422560   \n",
       "\n",
       "      Accompagnement_true_log  Accompagnement_true**2  Accompagnement_true**3  \\\n",
       "id                                                                              \n",
       "653                 -0.254336                0.601293                0.466261   \n",
       "3180                -1.295700                0.074915                0.020505   \n",
       "2194                -1.424320                0.057923                0.013940   \n",
       "1035                -0.171853                0.709138                0.597167   \n",
       "2550                -0.236699                0.622883                0.491597   \n",
       "\n",
       "      acc_sur_by_others  ...  Autres Procédures Collectives_true**3  \\\n",
       "id                       ...                                          \n",
       "653            0.453892  ...                               0.991941   \n",
       "3180           0.281464  ...                               0.999990   \n",
       "2194           0.194344  ...                               0.999502   \n",
       "1035           0.408053  ...                               0.993617   \n",
       "2550           0.400978  ...                               0.988048   \n",
       "\n",
       "      Mediation_true_log  Mediation_true**2  Mediation_true**3  \\\n",
       "id                                                               \n",
       "653            -0.013761           0.972853           0.959556   \n",
       "3180           -0.068612           0.871775           0.813967   \n",
       "2194           -0.036845           0.928960           0.895356   \n",
       "1035           -0.036721           0.929191           0.895689   \n",
       "2550           -0.113099           0.797559           0.712270   \n",
       "\n",
       "      Microcredit_true_log  Microcredit_true**2  Microcredit_true**3  \\\n",
       "id                                                                     \n",
       "653                    0.0                  1.0                  1.0   \n",
       "3180                   0.0                  1.0                  1.0   \n",
       "2194                   0.0                  1.0                  1.0   \n",
       "1035                   0.0                  1.0                  1.0   \n",
       "2550                   0.0                  1.0                  1.0   \n",
       "\n",
       "      Surendettement_true_log  Surendettement_true**2  Surendettement_true**3  \n",
       "id                                                                             \n",
       "653                 -0.814468                0.196138                0.086865  \n",
       "3180                -0.091994                0.831946                0.758827  \n",
       "2194                -0.270136                0.582589                0.444676  \n",
       "1035                -1.063147                0.119279                0.041195  \n",
       "2550                -0.861425                0.178557                0.075451  \n",
       "\n",
       "[5 rows x 25 columns]"
      ]
     },
     "execution_count": 2212,
     "metadata": {},
     "output_type": "execute_result"
    }
   ],
   "source": [
    "df_probas.head()"
   ]
  },
  {
   "cell_type": "markdown",
   "metadata": {},
   "source": [
    "Training a second model on top of this dataframe"
   ]
  },
  {
   "cell_type": "code",
   "execution_count": 2213,
   "metadata": {},
   "outputs": [],
   "source": [
    "from sklearn.linear_model import LogisticRegression"
   ]
  },
  {
   "cell_type": "code",
   "execution_count": 2214,
   "metadata": {},
   "outputs": [],
   "source": [
    "# test : 0.5939788445890968\n",
    "lr = LogisticRegression(solver='lbfgs', multi_class='multinomial', max_iter=100, random_state=42)\n",
    "\n",
    "# rf_second = RandomForestClassifier(n_estimators=1000, max_depth=10, max_features=5, criterion='gini', random_state=42, n_jobs=4)"
   ]
  },
  {
   "cell_type": "code",
   "execution_count": 2215,
   "metadata": {},
   "outputs": [],
   "source": [
    "clf = lr"
   ]
  },
  {
   "cell_type": "code",
   "execution_count": 2216,
   "metadata": {},
   "outputs": [
    {
     "name": "stderr",
     "output_type": "stream",
     "text": [
      "/home/borisghidaglia/.local/lib/python3.6/site-packages/sklearn/linear_model/logistic.py:758: ConvergenceWarning: lbfgs failed to converge. Increase the number of iterations.\n",
      "  \"of iterations.\", ConvergenceWarning)\n"
     ]
    },
    {
     "data": {
      "text/plain": [
       "LogisticRegression(C=1.0, class_weight=None, dual=False, fit_intercept=True,\n",
       "          intercept_scaling=1, max_iter=100, multi_class='multinomial',\n",
       "          n_jobs=None, penalty='l2', random_state=42, solver='lbfgs',\n",
       "          tol=0.0001, verbose=0, warm_start=False)"
      ]
     },
     "execution_count": 2216,
     "metadata": {},
     "output_type": "execute_result"
    }
   ],
   "source": [
    "clf.fit(df_probas, y_train_second)"
   ]
  },
  {
   "cell_type": "markdown",
   "metadata": {},
   "source": [
    "Now lets test the result with our local test"
   ]
  },
  {
   "cell_type": "code",
   "execution_count": 2217,
   "metadata": {},
   "outputs": [],
   "source": [
    "df_probas_test = pd.DataFrame()\n",
    "for i, elt in enumerate(moc.predict_proba(local_X_test)):\n",
    "    col_name = pd.get_dummies(y_train_first).columns[i]\n",
    "    buff_df = pd.DataFrame(columns=[f\"{col_name}_true\", f\"{col_name}_false\"], data=elt, index=local_X_test.index)\n",
    "    df_probas_test = pd.concat([df_probas_test, buff_df], axis=1)"
   ]
  },
  {
   "cell_type": "code",
   "execution_count": 2218,
   "metadata": {},
   "outputs": [],
   "source": [
    "df_probas_test = df_probas_test[[col for col in df_probas_test if not 'false' in col]]"
   ]
  },
  {
   "cell_type": "code",
   "execution_count": 2219,
   "metadata": {},
   "outputs": [
    {
     "data": {
      "text/html": [
       "<div>\n",
       "<style scoped>\n",
       "    .dataframe tbody tr th:only-of-type {\n",
       "        vertical-align: middle;\n",
       "    }\n",
       "\n",
       "    .dataframe tbody tr th {\n",
       "        vertical-align: top;\n",
       "    }\n",
       "\n",
       "    .dataframe thead th {\n",
       "        text-align: right;\n",
       "    }\n",
       "</style>\n",
       "<table border=\"1\" class=\"dataframe\">\n",
       "  <thead>\n",
       "    <tr style=\"text-align: right;\">\n",
       "      <th></th>\n",
       "      <th>Accompagnement_true</th>\n",
       "      <th>Aucune_true</th>\n",
       "      <th>Autres Procédures Collectives_true</th>\n",
       "      <th>Mediation_true</th>\n",
       "      <th>Microcredit_true</th>\n",
       "      <th>Surendettement_true</th>\n",
       "    </tr>\n",
       "    <tr>\n",
       "      <th>id</th>\n",
       "      <th></th>\n",
       "      <th></th>\n",
       "      <th></th>\n",
       "      <th></th>\n",
       "      <th></th>\n",
       "      <th></th>\n",
       "    </tr>\n",
       "  </thead>\n",
       "  <tbody>\n",
       "    <tr>\n",
       "      <th>2756</th>\n",
       "      <td>0.466794</td>\n",
       "      <td>0.974184</td>\n",
       "      <td>0.999947</td>\n",
       "      <td>0.997417</td>\n",
       "      <td>1.000</td>\n",
       "      <td>0.564992</td>\n",
       "    </tr>\n",
       "    <tr>\n",
       "      <th>3308</th>\n",
       "      <td>0.673917</td>\n",
       "      <td>0.978954</td>\n",
       "      <td>0.997933</td>\n",
       "      <td>0.997374</td>\n",
       "      <td>1.000</td>\n",
       "      <td>0.317441</td>\n",
       "    </tr>\n",
       "    <tr>\n",
       "      <th>1363</th>\n",
       "      <td>0.769034</td>\n",
       "      <td>0.888748</td>\n",
       "      <td>0.989976</td>\n",
       "      <td>0.973955</td>\n",
       "      <td>0.999</td>\n",
       "      <td>0.307640</td>\n",
       "    </tr>\n",
       "    <tr>\n",
       "      <th>6207</th>\n",
       "      <td>0.693504</td>\n",
       "      <td>0.899728</td>\n",
       "      <td>0.888000</td>\n",
       "      <td>0.588551</td>\n",
       "      <td>1.000</td>\n",
       "      <td>0.619107</td>\n",
       "    </tr>\n",
       "    <tr>\n",
       "      <th>4434</th>\n",
       "      <td>0.572944</td>\n",
       "      <td>0.970149</td>\n",
       "      <td>0.991995</td>\n",
       "      <td>0.999655</td>\n",
       "      <td>1.000</td>\n",
       "      <td>0.500824</td>\n",
       "    </tr>\n",
       "  </tbody>\n",
       "</table>\n",
       "</div>"
      ],
      "text/plain": [
       "      Accompagnement_true  Aucune_true  Autres Procédures Collectives_true  \\\n",
       "id                                                                           \n",
       "2756             0.466794     0.974184                            0.999947   \n",
       "3308             0.673917     0.978954                            0.997933   \n",
       "1363             0.769034     0.888748                            0.989976   \n",
       "6207             0.693504     0.899728                            0.888000   \n",
       "4434             0.572944     0.970149                            0.991995   \n",
       "\n",
       "      Mediation_true  Microcredit_true  Surendettement_true  \n",
       "id                                                           \n",
       "2756        0.997417             1.000             0.564992  \n",
       "3308        0.997374             1.000             0.317441  \n",
       "1363        0.973955             0.999             0.307640  \n",
       "6207        0.588551             1.000             0.619107  \n",
       "4434        0.999655             1.000             0.500824  "
      ]
     },
     "execution_count": 2219,
     "metadata": {},
     "output_type": "execute_result"
    }
   ],
   "source": [
    "df_probas_test.head()"
   ]
  },
  {
   "cell_type": "code",
   "execution_count": 2220,
   "metadata": {},
   "outputs": [],
   "source": [
    "for col in df_probas_test.columns:\n",
    "    df_probas_test[f\"{col}_log\"] = np.log(df_probas_test[col])\n",
    "    df_probas_test[f\"{col}**2\"] = df_probas_test[col]**2\n",
    "    df_probas_test[f\"{col}**3\"] = df_probas_test[col]**3\n",
    "    df_probas_test[\"acc_sur_by_others\"] = (df_probas_test['Accompagnement_true']*df_probas_test['Surendettement_true'])/(df_probas_test['Aucune_true']*df_probas_test['Autres Procédures Collectives_true']*df_probas_test['Mediation_true']*df_probas_test['Microcredit_true'])"
   ]
  },
  {
   "cell_type": "code",
   "execution_count": 2221,
   "metadata": {},
   "outputs": [
    {
     "data": {
      "text/plain": [
       "0.5947925142392189"
      ]
     },
     "execution_count": 2221,
     "metadata": {},
     "output_type": "execute_result"
    }
   ],
   "source": [
    "clf.score(df_probas_test, local_y_test)"
   ]
  },
  {
   "cell_type": "code",
   "execution_count": 2222,
   "metadata": {},
   "outputs": [],
   "source": [
    "def pred(row):\n",
    "    max_col = ('', 0)\n",
    "    for val in df_probas_test.columns:\n",
    "        if max_col[1] < row[val]:\n",
    "            max_col = (val, row[val])\n",
    "    return max_col[0].replace('_true', '')"
   ]
  },
  {
   "cell_type": "code",
   "execution_count": 2223,
   "metadata": {},
   "outputs": [],
   "source": [
    "df_probas_test['res'] = df_probas_test.apply(pred, axis=1)"
   ]
  },
  {
   "cell_type": "code",
   "execution_count": 2224,
   "metadata": {},
   "outputs": [
    {
     "data": {
      "text/html": [
       "<div>\n",
       "<style scoped>\n",
       "    .dataframe tbody tr th:only-of-type {\n",
       "        vertical-align: middle;\n",
       "    }\n",
       "\n",
       "    .dataframe tbody tr th {\n",
       "        vertical-align: top;\n",
       "    }\n",
       "\n",
       "    .dataframe thead th {\n",
       "        text-align: right;\n",
       "    }\n",
       "</style>\n",
       "<table border=\"1\" class=\"dataframe\">\n",
       "  <thead>\n",
       "    <tr style=\"text-align: right;\">\n",
       "      <th></th>\n",
       "      <th>Accompagnement_true</th>\n",
       "      <th>Aucune_true</th>\n",
       "      <th>Autres Procédures Collectives_true</th>\n",
       "      <th>Mediation_true</th>\n",
       "      <th>Microcredit_true</th>\n",
       "      <th>Surendettement_true</th>\n",
       "      <th>Accompagnement_true_log</th>\n",
       "      <th>Accompagnement_true**2</th>\n",
       "      <th>Accompagnement_true**3</th>\n",
       "      <th>acc_sur_by_others</th>\n",
       "      <th>...</th>\n",
       "      <th>Mediation_true_log</th>\n",
       "      <th>Mediation_true**2</th>\n",
       "      <th>Mediation_true**3</th>\n",
       "      <th>Microcredit_true_log</th>\n",
       "      <th>Microcredit_true**2</th>\n",
       "      <th>Microcredit_true**3</th>\n",
       "      <th>Surendettement_true_log</th>\n",
       "      <th>Surendettement_true**2</th>\n",
       "      <th>Surendettement_true**3</th>\n",
       "      <th>res</th>\n",
       "    </tr>\n",
       "    <tr>\n",
       "      <th>id</th>\n",
       "      <th></th>\n",
       "      <th></th>\n",
       "      <th></th>\n",
       "      <th></th>\n",
       "      <th></th>\n",
       "      <th></th>\n",
       "      <th></th>\n",
       "      <th></th>\n",
       "      <th></th>\n",
       "      <th></th>\n",
       "      <th></th>\n",
       "      <th></th>\n",
       "      <th></th>\n",
       "      <th></th>\n",
       "      <th></th>\n",
       "      <th></th>\n",
       "      <th></th>\n",
       "      <th></th>\n",
       "      <th></th>\n",
       "      <th></th>\n",
       "      <th></th>\n",
       "    </tr>\n",
       "  </thead>\n",
       "  <tbody>\n",
       "    <tr>\n",
       "      <th>2756</th>\n",
       "      <td>0.466794</td>\n",
       "      <td>0.974184</td>\n",
       "      <td>0.999947</td>\n",
       "      <td>0.997417</td>\n",
       "      <td>1.000</td>\n",
       "      <td>0.564992</td>\n",
       "      <td>-0.761867</td>\n",
       "      <td>0.217897</td>\n",
       "      <td>0.101713</td>\n",
       "      <td>0.271439</td>\n",
       "      <td>...</td>\n",
       "      <td>-0.002586</td>\n",
       "      <td>0.994841</td>\n",
       "      <td>0.992271</td>\n",
       "      <td>0.000000</td>\n",
       "      <td>1.000000</td>\n",
       "      <td>1.000000</td>\n",
       "      <td>-0.570944</td>\n",
       "      <td>0.319216</td>\n",
       "      <td>0.180354</td>\n",
       "      <td>Microcredit</td>\n",
       "    </tr>\n",
       "    <tr>\n",
       "      <th>3308</th>\n",
       "      <td>0.673917</td>\n",
       "      <td>0.978954</td>\n",
       "      <td>0.997933</td>\n",
       "      <td>0.997374</td>\n",
       "      <td>1.000</td>\n",
       "      <td>0.317441</td>\n",
       "      <td>-0.394649</td>\n",
       "      <td>0.454164</td>\n",
       "      <td>0.306069</td>\n",
       "      <td>0.219557</td>\n",
       "      <td>...</td>\n",
       "      <td>-0.002629</td>\n",
       "      <td>0.994755</td>\n",
       "      <td>0.992143</td>\n",
       "      <td>0.000000</td>\n",
       "      <td>1.000000</td>\n",
       "      <td>1.000000</td>\n",
       "      <td>-1.147464</td>\n",
       "      <td>0.100769</td>\n",
       "      <td>0.031988</td>\n",
       "      <td>Microcredit</td>\n",
       "    </tr>\n",
       "    <tr>\n",
       "      <th>1363</th>\n",
       "      <td>0.769034</td>\n",
       "      <td>0.888748</td>\n",
       "      <td>0.989976</td>\n",
       "      <td>0.973955</td>\n",
       "      <td>0.999</td>\n",
       "      <td>0.307640</td>\n",
       "      <td>-0.262620</td>\n",
       "      <td>0.591413</td>\n",
       "      <td>0.454817</td>\n",
       "      <td>0.276364</td>\n",
       "      <td>...</td>\n",
       "      <td>-0.026390</td>\n",
       "      <td>0.948588</td>\n",
       "      <td>0.923882</td>\n",
       "      <td>-0.001001</td>\n",
       "      <td>0.998001</td>\n",
       "      <td>0.997003</td>\n",
       "      <td>-1.178825</td>\n",
       "      <td>0.094642</td>\n",
       "      <td>0.029116</td>\n",
       "      <td>Microcredit</td>\n",
       "    </tr>\n",
       "    <tr>\n",
       "      <th>6207</th>\n",
       "      <td>0.693504</td>\n",
       "      <td>0.899728</td>\n",
       "      <td>0.888000</td>\n",
       "      <td>0.588551</td>\n",
       "      <td>1.000</td>\n",
       "      <td>0.619107</td>\n",
       "      <td>-0.365999</td>\n",
       "      <td>0.480947</td>\n",
       "      <td>0.333539</td>\n",
       "      <td>0.913074</td>\n",
       "      <td>...</td>\n",
       "      <td>-0.530092</td>\n",
       "      <td>0.346392</td>\n",
       "      <td>0.203869</td>\n",
       "      <td>0.000000</td>\n",
       "      <td>1.000000</td>\n",
       "      <td>1.000000</td>\n",
       "      <td>-0.479477</td>\n",
       "      <td>0.383293</td>\n",
       "      <td>0.237300</td>\n",
       "      <td>Microcredit</td>\n",
       "    </tr>\n",
       "    <tr>\n",
       "      <th>4434</th>\n",
       "      <td>0.572944</td>\n",
       "      <td>0.970149</td>\n",
       "      <td>0.991995</td>\n",
       "      <td>0.999655</td>\n",
       "      <td>1.000</td>\n",
       "      <td>0.500824</td>\n",
       "      <td>-0.556968</td>\n",
       "      <td>0.328265</td>\n",
       "      <td>0.188077</td>\n",
       "      <td>0.298263</td>\n",
       "      <td>...</td>\n",
       "      <td>-0.000345</td>\n",
       "      <td>0.999311</td>\n",
       "      <td>0.998967</td>\n",
       "      <td>0.000000</td>\n",
       "      <td>1.000000</td>\n",
       "      <td>1.000000</td>\n",
       "      <td>-0.691501</td>\n",
       "      <td>0.250824</td>\n",
       "      <td>0.125619</td>\n",
       "      <td>Microcredit</td>\n",
       "    </tr>\n",
       "  </tbody>\n",
       "</table>\n",
       "<p>5 rows × 26 columns</p>\n",
       "</div>"
      ],
      "text/plain": [
       "      Accompagnement_true  Aucune_true  Autres Procédures Collectives_true  \\\n",
       "id                                                                           \n",
       "2756             0.466794     0.974184                            0.999947   \n",
       "3308             0.673917     0.978954                            0.997933   \n",
       "1363             0.769034     0.888748                            0.989976   \n",
       "6207             0.693504     0.899728                            0.888000   \n",
       "4434             0.572944     0.970149                            0.991995   \n",
       "\n",
       "      Mediation_true  Microcredit_true  Surendettement_true  \\\n",
       "id                                                            \n",
       "2756        0.997417             1.000             0.564992   \n",
       "3308        0.997374             1.000             0.317441   \n",
       "1363        0.973955             0.999             0.307640   \n",
       "6207        0.588551             1.000             0.619107   \n",
       "4434        0.999655             1.000             0.500824   \n",
       "\n",
       "      Accompagnement_true_log  Accompagnement_true**2  Accompagnement_true**3  \\\n",
       "id                                                                              \n",
       "2756                -0.761867                0.217897                0.101713   \n",
       "3308                -0.394649                0.454164                0.306069   \n",
       "1363                -0.262620                0.591413                0.454817   \n",
       "6207                -0.365999                0.480947                0.333539   \n",
       "4434                -0.556968                0.328265                0.188077   \n",
       "\n",
       "      acc_sur_by_others  ...  Mediation_true_log  Mediation_true**2  \\\n",
       "id                       ...                                          \n",
       "2756           0.271439  ...           -0.002586           0.994841   \n",
       "3308           0.219557  ...           -0.002629           0.994755   \n",
       "1363           0.276364  ...           -0.026390           0.948588   \n",
       "6207           0.913074  ...           -0.530092           0.346392   \n",
       "4434           0.298263  ...           -0.000345           0.999311   \n",
       "\n",
       "      Mediation_true**3  Microcredit_true_log  Microcredit_true**2  \\\n",
       "id                                                                   \n",
       "2756           0.992271              0.000000             1.000000   \n",
       "3308           0.992143              0.000000             1.000000   \n",
       "1363           0.923882             -0.001001             0.998001   \n",
       "6207           0.203869              0.000000             1.000000   \n",
       "4434           0.998967              0.000000             1.000000   \n",
       "\n",
       "      Microcredit_true**3  Surendettement_true_log  Surendettement_true**2  \\\n",
       "id                                                                           \n",
       "2756             1.000000                -0.570944                0.319216   \n",
       "3308             1.000000                -1.147464                0.100769   \n",
       "1363             0.997003                -1.178825                0.094642   \n",
       "6207             1.000000                -0.479477                0.383293   \n",
       "4434             1.000000                -0.691501                0.250824   \n",
       "\n",
       "      Surendettement_true**3          res  \n",
       "id                                         \n",
       "2756                0.180354  Microcredit  \n",
       "3308                0.031988  Microcredit  \n",
       "1363                0.029116  Microcredit  \n",
       "6207                0.237300  Microcredit  \n",
       "4434                0.125619  Microcredit  \n",
       "\n",
       "[5 rows x 26 columns]"
      ]
     },
     "execution_count": 2224,
     "metadata": {},
     "output_type": "execute_result"
    }
   ],
   "source": [
    "df_probas_test.head()"
   ]
  },
  {
   "cell_type": "code",
   "execution_count": 2225,
   "metadata": {},
   "outputs": [
    {
     "data": {
      "text/plain": [
       "0.0"
      ]
     },
     "execution_count": 2225,
     "metadata": {},
     "output_type": "execute_result"
    }
   ],
   "source": [
    "df_probas_test.sort_index(inplace=True)\n",
    "local_y_test.sort_index(inplace=True)\n",
    "(df_probas_test.res == local_y_test).sum()/len(local_y_test)"
   ]
  },
  {
   "cell_type": "markdown",
   "metadata": {},
   "source": [
    "Generating results"
   ]
  },
  {
   "cell_type": "code",
   "execution_count": 2232,
   "metadata": {},
   "outputs": [],
   "source": [
    "df_probas_test = pd.DataFrame()\n",
    "for i, elt in enumerate(moc.predict_proba(test)):\n",
    "    col_name = pd.get_dummies(y_train_first).columns[i]\n",
    "    buff_df = pd.DataFrame(columns=[f\"{col_name}_true\", f\"{col_name}_false\"], data=elt, index=test.index)\n",
    "    df_probas_test = pd.concat([df_probas_test, buff_df], axis=1)"
   ]
  },
  {
   "cell_type": "code",
   "execution_count": 2237,
   "metadata": {},
   "outputs": [],
   "source": [
    "df_probas_test = df_probas_test[[col for col in df_probas_test if not 'false' in col]]"
   ]
  },
  {
   "cell_type": "code",
   "execution_count": null,
   "metadata": {},
   "outputs": [
    {
     "name": "stderr",
     "output_type": "stream",
     "text": [
      "/home/borisghidaglia/.local/lib/python3.6/site-packages/ipykernel_launcher.py:2: SettingWithCopyWarning: \n",
      "A value is trying to be set on a copy of a slice from a DataFrame.\n",
      "Try using .loc[row_indexer,col_indexer] = value instead\n",
      "\n",
      "See the caveats in the documentation: http://pandas.pydata.org/pandas-docs/stable/indexing.html#indexing-view-versus-copy\n",
      "  \n",
      "/home/borisghidaglia/.local/lib/python3.6/site-packages/ipykernel_launcher.py:3: SettingWithCopyWarning: \n",
      "A value is trying to be set on a copy of a slice from a DataFrame.\n",
      "Try using .loc[row_indexer,col_indexer] = value instead\n",
      "\n",
      "See the caveats in the documentation: http://pandas.pydata.org/pandas-docs/stable/indexing.html#indexing-view-versus-copy\n",
      "  This is separate from the ipykernel package so we can avoid doing imports until\n",
      "/home/borisghidaglia/.local/lib/python3.6/site-packages/ipykernel_launcher.py:4: SettingWithCopyWarning: \n",
      "A value is trying to be set on a copy of a slice from a DataFrame.\n",
      "Try using .loc[row_indexer,col_indexer] = value instead\n",
      "\n",
      "See the caveats in the documentation: http://pandas.pydata.org/pandas-docs/stable/indexing.html#indexing-view-versus-copy\n",
      "  after removing the cwd from sys.path.\n",
      "/home/borisghidaglia/.local/lib/python3.6/site-packages/ipykernel_launcher.py:5: SettingWithCopyWarning: \n",
      "A value is trying to be set on a copy of a slice from a DataFrame.\n",
      "Try using .loc[row_indexer,col_indexer] = value instead\n",
      "\n",
      "See the caveats in the documentation: http://pandas.pydata.org/pandas-docs/stable/indexing.html#indexing-view-versus-copy\n",
      "  \"\"\"\n"
     ]
    }
   ],
   "source": [
    "for col in df_probas_test.columns:\n",
    "    df_probas_test[f\"{col}_log\"] = np.log(df_probas_test[col])\n",
    "    df_probas_test[f\"{col}**2\"] = df_probas_test[col]**2\n",
    "    df_probas_test[f\"{col}**3\"] = df_probas_test[col]**3\n",
    "    df_probas_test[\"acc_sur_by_others\"] = (df_probas_test['Accompagnement_true']*df_probas_test['Surendettement_true'])/(df_probas_test['Aucune_true']*df_probas_test['Autres Procédures Collectives_true']*df_probas_test['Mediation_true']*df_probas_test['Microcredit_true'])"
   ]
  },
  {
   "cell_type": "code",
   "execution_count": 2235,
   "metadata": {},
   "outputs": [
    {
     "ename": "ValueError",
     "evalue": "Input contains NaN, infinity or a value too large for dtype('float64').",
     "output_type": "error",
     "traceback": [
      "\u001b[0;31m---------------------------------------------------------------------------\u001b[0m",
      "\u001b[0;31mValueError\u001b[0m                                Traceback (most recent call last)",
      "\u001b[0;32m<ipython-input-2235-6486569cfad0>\u001b[0m in \u001b[0;36m<module>\u001b[0;34m\u001b[0m\n\u001b[0;32m----> 1\u001b[0;31m \u001b[0mdf_res\u001b[0m \u001b[0;34m=\u001b[0m \u001b[0mpd\u001b[0m\u001b[0;34m.\u001b[0m\u001b[0mDataFrame\u001b[0m\u001b[0;34m(\u001b[0m\u001b[0mindex\u001b[0m\u001b[0;34m=\u001b[0m\u001b[0mtest\u001b[0m\u001b[0;34m.\u001b[0m\u001b[0mindex\u001b[0m\u001b[0;34m,\u001b[0m \u001b[0mdata\u001b[0m\u001b[0;34m=\u001b[0m\u001b[0;34m{\u001b[0m\u001b[0;34m'ORIENTATION'\u001b[0m\u001b[0;34m:\u001b[0m\u001b[0mclf\u001b[0m\u001b[0;34m.\u001b[0m\u001b[0mpredict\u001b[0m\u001b[0;34m(\u001b[0m\u001b[0mdf_probas_test\u001b[0m\u001b[0;34m)\u001b[0m\u001b[0;34m}\u001b[0m\u001b[0;34m)\u001b[0m\u001b[0;34m\u001b[0m\u001b[0;34m\u001b[0m\u001b[0m\n\u001b[0m",
      "\u001b[0;32m~/.local/lib/python3.6/site-packages/sklearn/linear_model/base.py\u001b[0m in \u001b[0;36mpredict\u001b[0;34m(self, X)\u001b[0m\n\u001b[1;32m    279\u001b[0m             \u001b[0mPredicted\u001b[0m \u001b[0;32mclass\u001b[0m \u001b[0mlabel\u001b[0m \u001b[0mper\u001b[0m \u001b[0msample\u001b[0m\u001b[0;34m.\u001b[0m\u001b[0;34m\u001b[0m\u001b[0;34m\u001b[0m\u001b[0m\n\u001b[1;32m    280\u001b[0m         \"\"\"\n\u001b[0;32m--> 281\u001b[0;31m         \u001b[0mscores\u001b[0m \u001b[0;34m=\u001b[0m \u001b[0mself\u001b[0m\u001b[0;34m.\u001b[0m\u001b[0mdecision_function\u001b[0m\u001b[0;34m(\u001b[0m\u001b[0mX\u001b[0m\u001b[0;34m)\u001b[0m\u001b[0;34m\u001b[0m\u001b[0;34m\u001b[0m\u001b[0m\n\u001b[0m\u001b[1;32m    282\u001b[0m         \u001b[0;32mif\u001b[0m \u001b[0mlen\u001b[0m\u001b[0;34m(\u001b[0m\u001b[0mscores\u001b[0m\u001b[0;34m.\u001b[0m\u001b[0mshape\u001b[0m\u001b[0;34m)\u001b[0m \u001b[0;34m==\u001b[0m \u001b[0;36m1\u001b[0m\u001b[0;34m:\u001b[0m\u001b[0;34m\u001b[0m\u001b[0;34m\u001b[0m\u001b[0m\n\u001b[1;32m    283\u001b[0m             \u001b[0mindices\u001b[0m \u001b[0;34m=\u001b[0m \u001b[0;34m(\u001b[0m\u001b[0mscores\u001b[0m \u001b[0;34m>\u001b[0m \u001b[0;36m0\u001b[0m\u001b[0;34m)\u001b[0m\u001b[0;34m.\u001b[0m\u001b[0mastype\u001b[0m\u001b[0;34m(\u001b[0m\u001b[0mnp\u001b[0m\u001b[0;34m.\u001b[0m\u001b[0mint\u001b[0m\u001b[0;34m)\u001b[0m\u001b[0;34m\u001b[0m\u001b[0;34m\u001b[0m\u001b[0m\n",
      "\u001b[0;32m~/.local/lib/python3.6/site-packages/sklearn/linear_model/base.py\u001b[0m in \u001b[0;36mdecision_function\u001b[0;34m(self, X)\u001b[0m\n\u001b[1;32m    255\u001b[0m                                  \"yet\" % {'name': type(self).__name__})\n\u001b[1;32m    256\u001b[0m \u001b[0;34m\u001b[0m\u001b[0m\n\u001b[0;32m--> 257\u001b[0;31m         \u001b[0mX\u001b[0m \u001b[0;34m=\u001b[0m \u001b[0mcheck_array\u001b[0m\u001b[0;34m(\u001b[0m\u001b[0mX\u001b[0m\u001b[0;34m,\u001b[0m \u001b[0maccept_sparse\u001b[0m\u001b[0;34m=\u001b[0m\u001b[0;34m'csr'\u001b[0m\u001b[0;34m)\u001b[0m\u001b[0;34m\u001b[0m\u001b[0;34m\u001b[0m\u001b[0m\n\u001b[0m\u001b[1;32m    258\u001b[0m \u001b[0;34m\u001b[0m\u001b[0m\n\u001b[1;32m    259\u001b[0m         \u001b[0mn_features\u001b[0m \u001b[0;34m=\u001b[0m \u001b[0mself\u001b[0m\u001b[0;34m.\u001b[0m\u001b[0mcoef_\u001b[0m\u001b[0;34m.\u001b[0m\u001b[0mshape\u001b[0m\u001b[0;34m[\u001b[0m\u001b[0;36m1\u001b[0m\u001b[0;34m]\u001b[0m\u001b[0;34m\u001b[0m\u001b[0;34m\u001b[0m\u001b[0m\n",
      "\u001b[0;32m~/.local/lib/python3.6/site-packages/sklearn/utils/validation.py\u001b[0m in \u001b[0;36mcheck_array\u001b[0;34m(array, accept_sparse, accept_large_sparse, dtype, order, copy, force_all_finite, ensure_2d, allow_nd, ensure_min_samples, ensure_min_features, warn_on_dtype, estimator)\u001b[0m\n\u001b[1;32m    571\u001b[0m         \u001b[0;32mif\u001b[0m \u001b[0mforce_all_finite\u001b[0m\u001b[0;34m:\u001b[0m\u001b[0;34m\u001b[0m\u001b[0;34m\u001b[0m\u001b[0m\n\u001b[1;32m    572\u001b[0m             _assert_all_finite(array,\n\u001b[0;32m--> 573\u001b[0;31m                                allow_nan=force_all_finite == 'allow-nan')\n\u001b[0m\u001b[1;32m    574\u001b[0m \u001b[0;34m\u001b[0m\u001b[0m\n\u001b[1;32m    575\u001b[0m     \u001b[0mshape_repr\u001b[0m \u001b[0;34m=\u001b[0m \u001b[0m_shape_repr\u001b[0m\u001b[0;34m(\u001b[0m\u001b[0marray\u001b[0m\u001b[0;34m.\u001b[0m\u001b[0mshape\u001b[0m\u001b[0;34m)\u001b[0m\u001b[0;34m\u001b[0m\u001b[0;34m\u001b[0m\u001b[0m\n",
      "\u001b[0;32m~/.local/lib/python3.6/site-packages/sklearn/utils/validation.py\u001b[0m in \u001b[0;36m_assert_all_finite\u001b[0;34m(X, allow_nan)\u001b[0m\n\u001b[1;32m     54\u001b[0m                 not allow_nan and not np.isfinite(X).all()):\n\u001b[1;32m     55\u001b[0m             \u001b[0mtype_err\u001b[0m \u001b[0;34m=\u001b[0m \u001b[0;34m'infinity'\u001b[0m \u001b[0;32mif\u001b[0m \u001b[0mallow_nan\u001b[0m \u001b[0;32melse\u001b[0m \u001b[0;34m'NaN, infinity'\u001b[0m\u001b[0;34m\u001b[0m\u001b[0;34m\u001b[0m\u001b[0m\n\u001b[0;32m---> 56\u001b[0;31m             \u001b[0;32mraise\u001b[0m \u001b[0mValueError\u001b[0m\u001b[0;34m(\u001b[0m\u001b[0mmsg_err\u001b[0m\u001b[0;34m.\u001b[0m\u001b[0mformat\u001b[0m\u001b[0;34m(\u001b[0m\u001b[0mtype_err\u001b[0m\u001b[0;34m,\u001b[0m \u001b[0mX\u001b[0m\u001b[0;34m.\u001b[0m\u001b[0mdtype\u001b[0m\u001b[0;34m)\u001b[0m\u001b[0;34m)\u001b[0m\u001b[0;34m\u001b[0m\u001b[0;34m\u001b[0m\u001b[0m\n\u001b[0m\u001b[1;32m     57\u001b[0m \u001b[0;34m\u001b[0m\u001b[0m\n\u001b[1;32m     58\u001b[0m \u001b[0;34m\u001b[0m\u001b[0m\n",
      "\u001b[0;31mValueError\u001b[0m: Input contains NaN, infinity or a value too large for dtype('float64')."
     ]
    }
   ],
   "source": [
    "df_res = pd.DataFrame(index=test.index, data={'ORIENTATION':clf.predict(df_probas_test)})"
   ]
  },
  {
   "cell_type": "code",
   "execution_count": 2227,
   "metadata": {},
   "outputs": [],
   "source": [
    "# df_res.to_csv('submissions/submission_9.csv')"
   ]
  }
 ],
 "metadata": {
  "kernelspec": {
   "display_name": "Python 3",
   "language": "python",
   "name": "python3"
  },
  "language_info": {
   "codemirror_mode": {
    "name": "ipython",
    "version": 3
   },
   "file_extension": ".py",
   "mimetype": "text/x-python",
   "name": "python",
   "nbconvert_exporter": "python",
   "pygments_lexer": "ipython3",
   "version": "3.6.7"
  }
 },
 "nbformat": 4,
 "nbformat_minor": 2
}
